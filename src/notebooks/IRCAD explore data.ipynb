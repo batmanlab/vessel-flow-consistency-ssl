{
 "cells": [
  {
   "cell_type": "code",
   "execution_count": 1,
   "id": "whole-sponsorship",
   "metadata": {},
   "outputs": [
    {
     "name": "stdout",
     "output_type": "stream",
     "text": [
      "Using matplotlib backend: agg\n",
      "Populating the interactive namespace from numpy and matplotlib\n"
     ]
    }
   ],
   "source": [
    "%pylab\n",
    "from itkwidgets import view\n",
    "import glob\n",
    "import SimpleITK as sitk\n",
    "import pandas as pd\n",
    "import matplotlib.patches as patches\n",
    "%matplotlib inline"
   ]
  },
  {
   "cell_type": "code",
   "execution_count": 2,
   "id": "atomic-evanescence",
   "metadata": {},
   "outputs": [],
   "source": [
    "dirname = '/ocean/projects/asc170022p/rohit33/Liver/'"
   ]
  },
  {
   "cell_type": "code",
   "execution_count": 14,
   "id": "thirty-terrace",
   "metadata": {},
   "outputs": [],
   "source": [
    "def load(file):\n",
    "    return sitk.GetArrayFromImage(sitk.ReadImage(file))"
   ]
  },
  {
   "cell_type": "code",
   "execution_count": 5,
   "id": "planned-latter",
   "metadata": {},
   "outputs": [],
   "source": [
    "dirlist = sorted(glob.glob(dirname + \"*\"))"
   ]
  },
  {
   "cell_type": "code",
   "execution_count": 140,
   "id": "metallic-oxygen",
   "metadata": {},
   "outputs": [],
   "source": [
    "di = dirlist[1]"
   ]
  },
  {
   "cell_type": "code",
   "execution_count": 141,
   "id": "political-whale",
   "metadata": {},
   "outputs": [],
   "source": [
    "# glob.glob(di + \"/PATIENT_DICOM/*\")"
   ]
  },
  {
   "cell_type": "code",
   "execution_count": 142,
   "id": "horizontal-guinea",
   "metadata": {},
   "outputs": [
    {
     "data": {
      "text/plain": [
       "['/ocean/projects/asc170022p/rohit33/Liver/3Dircadb1.10/MASKS_DICOM/portalvein1',\n",
       " '/ocean/projects/asc170022p/rohit33/Liver/3Dircadb1.10/MASKS_DICOM/bone',\n",
       " '/ocean/projects/asc170022p/rohit33/Liver/3Dircadb1.10/MASKS_DICOM/skin',\n",
       " '/ocean/projects/asc170022p/rohit33/Liver/3Dircadb1.10/MASKS_DICOM/venacava',\n",
       " '/ocean/projects/asc170022p/rohit33/Liver/3Dircadb1.10/MASKS_DICOM/liver',\n",
       " '/ocean/projects/asc170022p/rohit33/Liver/3Dircadb1.10/MASKS_DICOM/livertumor']"
      ]
     },
     "execution_count": 142,
     "metadata": {},
     "output_type": "execute_result"
    }
   ],
   "source": [
    "glob.glob(di + \"/MASKS_DICOM/*\")"
   ]
  },
  {
   "cell_type": "code",
   "execution_count": 143,
   "id": "foster-arrangement",
   "metadata": {},
   "outputs": [
    {
     "data": {
      "text/plain": [
       "['/ocean/projects/asc170022p/rohit33/Liver/3Dircadb1.8/MASKS_DICOM/venoussystem',\n",
       " '/ocean/projects/asc170022p/rohit33/Liver/3Dircadb1.19/MASKS_DICOM/venoussystem',\n",
       " '/ocean/projects/asc170022p/rohit33/Liver/3Dircadb1.6/MASKS_DICOM/venoussystem',\n",
       " '/ocean/projects/asc170022p/rohit33/Liver/3Dircadb1.7/MASKS_DICOM/venoussystem',\n",
       " '/ocean/projects/asc170022p/rohit33/Liver/3Dircadb1.17/MASKS_DICOM/venoussystem',\n",
       " '/ocean/projects/asc170022p/rohit33/Liver/3Dircadb1.9/MASKS_DICOM/venoussystem',\n",
       " '/ocean/projects/asc170022p/rohit33/Liver/3Dircadb1.1/MASKS_DICOM/venoussystem',\n",
       " '/ocean/projects/asc170022p/rohit33/Liver/3Dircadb1.16/MASKS_DICOM/venoussystem',\n",
       " '/ocean/projects/asc170022p/rohit33/Liver/3Dircadb1.15/MASKS_DICOM/venoussystem',\n",
       " '/ocean/projects/asc170022p/rohit33/Liver/3Dircadb1.4/MASKS_DICOM/venoussystem',\n",
       " '/ocean/projects/asc170022p/rohit33/Liver/3Dircadb1.5/MASKS_DICOM/venoussystem',\n",
       " '/ocean/projects/asc170022p/rohit33/Liver/3Dircadb1.14/MASKS_DICOM/venoussystem']"
      ]
     },
     "execution_count": 143,
     "metadata": {},
     "output_type": "execute_result"
    }
   ],
   "source": [
    "glob.glob(\"/ocean/projects/asc170022p/rohit33/Liver/*/MASKS_DICOM/venoussystem\")"
   ]
  },
  {
   "cell_type": "code",
   "execution_count": 188,
   "id": "physical-nevada",
   "metadata": {},
   "outputs": [],
   "source": [
    "idx = 100\n",
    "img = load(\"/ocean/projects/asc170022p/rohit33/Liver/3Dircadb1.5/PATIENT_DICOM/image_{}\".format(idx))\n",
    "mask = load(\"/ocean/projects/asc170022p/rohit33/Liver/3Dircadb1.5/MASKS_DICOM/liver/image_{}\".format(idx))\n",
    "ves = load(\"/ocean/projects/asc170022p/rohit33/Liver/3Dircadb1.5/MASKS_DICOM/venoussystem/image_{}\".format(idx))"
   ]
  },
  {
   "cell_type": "code",
   "execution_count": 189,
   "id": "dietary-floor",
   "metadata": {},
   "outputs": [
    {
     "name": "stdout",
     "output_type": "stream",
     "text": [
      "-1024.0 1023.0\n"
     ]
    }
   ],
   "source": [
    "img = img*1.0\n",
    "print(img.min(), img.max())\n",
    "img = (img - img.min())/(img.max() - img.min())"
   ]
  },
  {
   "cell_type": "code",
   "execution_count": 190,
   "id": "sized-breakfast",
   "metadata": {},
   "outputs": [
    {
     "data": {
      "application/vnd.jupyter.widget-view+json": {
       "model_id": "392e30ac335444778c2299e3dc640c1e",
       "version_major": 2,
       "version_minor": 0
      },
      "text/plain": [
       "Viewer(geometries=[], gradient_opacity=0.22, point_sets=[], rendered_image=<itk.itkImagePython.itkImageD2; pro…"
      ]
     },
     "metadata": {},
     "output_type": "display_data"
    },
    {
     "data": {
      "text/plain": [
       "<Figure size 864x864 with 0 Axes>"
      ]
     },
     "metadata": {},
     "output_type": "display_data"
    }
   ],
   "source": [
    "plt.figure(figsize=(12, 12))\n",
    "view(img[0]*mask[0])\n",
    "# plt.imshow(img[0], 'gray')\n",
    "# plt.imshow(mask[0], alpha=0.1)"
   ]
  },
  {
   "cell_type": "code",
   "execution_count": 191,
   "id": "exotic-happiness",
   "metadata": {},
   "outputs": [
    {
     "data": {
      "application/vnd.jupyter.widget-view+json": {
       "model_id": "6531b82f2ae541979ddd481561cfb037",
       "version_major": 2,
       "version_minor": 0
      },
      "text/plain": [
       "Viewer(geometries=[], gradient_opacity=0.22, point_sets=[], rendered_image=<itk.itkImagePython.itkImageUC2; pr…"
      ]
     },
     "metadata": {},
     "output_type": "display_data"
    },
    {
     "data": {
      "text/plain": [
       "<Figure size 864x864 with 0 Axes>"
      ]
     },
     "metadata": {},
     "output_type": "display_data"
    }
   ],
   "source": [
    "plt.figure(figsize=(12, 12))\n",
    "# plt.imshow(ves[0], 'gray')\n",
    "view(ves[0])"
   ]
  },
  {
   "cell_type": "code",
   "execution_count": 83,
   "id": "twelve-criterion",
   "metadata": {},
   "outputs": [
    {
     "data": {
      "text/plain": [
       "<matplotlib.image.AxesImage at 0x14d3492506d8>"
      ]
     },
     "execution_count": 83,
     "metadata": {},
     "output_type": "execute_result"
    },
    {
     "data": {
      "image/png": "[encoded data removed]",
      "text/plain": [
       "<Figure size 432x288 with 1 Axes>"
      ]
     },
     "metadata": {
      "needs_background": "light"
     },
     "output_type": "display_data"
    }
   ],
   "source": [
    "path = '/ocean/projects/asc170022p/rohit33/Liver/3Dircadb1.2/MASKS_DICOM/portalvein/image_120'\n",
    "img = load(path)\n",
    "plt.imshow(img[0])"
   ]
  },
  {
   "cell_type": "code",
   "execution_count": 192,
   "id": "genuine-stockholm",
   "metadata": {},
   "outputs": [],
   "source": [
    "path = '/ocean/projects/asc170022p/rohit33/Liver/3Dircadb1.5/venoussystem.nii.gz'\n",
    "img = sitk.GetArrayFromImage(sitk.ReadImage(path))"
   ]
  },
  {
   "cell_type": "code",
   "execution_count": 193,
   "id": "stainless-accessory",
   "metadata": {},
   "outputs": [
    {
     "data": {
      "application/vnd.jupyter.widget-view+json": {
       "model_id": "479208a7373b4b538179be513ae1c15e",
       "version_major": 2,
       "version_minor": 0
      },
      "text/plain": [
       "Viewer(geometries=[], gradient_opacity=0.22, point_sets=[], rendered_image=<itk.itkImagePython.itkImageD3; pro…"
      ]
     },
     "metadata": {},
     "output_type": "display_data"
    }
   ],
   "source": [
    "view(img)"
   ]
  },
  {
   "cell_type": "code",
   "execution_count": 175,
   "id": "increased-constitutional",
   "metadata": {},
   "outputs": [
    {
     "data": {
      "text/plain": [
       "0.0"
      ]
     },
     "execution_count": 175,
     "metadata": {},
     "output_type": "execute_result"
    }
   ],
   "source": [
    "img.min()"
   ]
  },
  {
   "cell_type": "markdown",
   "id": "demonstrated-surname",
   "metadata": {},
   "source": [
    "# Get image sizes for patchification"
   ]
  },
  {
   "cell_type": "code",
   "execution_count": 5,
   "id": "hearing-exclusive",
   "metadata": {},
   "outputs": [],
   "source": [
    "images = sorted(glob.glob(\"/ocean/projects/asc170022p/rohit33/Liver/*/venoussystem.nii.gz\"))"
   ]
  },
  {
   "cell_type": "code",
   "execution_count": 11,
   "id": "spiritual-champagne",
   "metadata": {},
   "outputs": [],
   "source": [
    "dims = []\n",
    "patchIds = []\n",
    "numPatches = []\n",
    "\n",
    "for img in images:\n",
    "    img = sitk.GetArrayFromImage(sitk.ReadImage(img))\n",
    "    shape = img.shape\n",
    "    numP = [int(ceil((x - 64)/48.)) + 1 for x in shape]\n",
    "    dims.append(shape)\n",
    "    patchIds.append(numP)\n",
    "    numPatches.append(np.prod(numP))"
   ]
  },
  {
   "cell_type": "code",
   "execution_count": 12,
   "id": "fossil-wednesday",
   "metadata": {},
   "outputs": [
    {
     "data": {
      "text/plain": [
       "[(98, 272, 342),\n",
       " (104, 204, 325),\n",
       " (115, 198, 252),\n",
       " (113, 310, 287),\n",
       " (113, 280, 273),\n",
       " (41, 212, 267),\n",
       " (67, 248, 244),\n",
       " (119, 267, 268),\n",
       " (96, 271, 256),\n",
       " (98, 230, 341),\n",
       " (116, 252, 433),\n",
       " (89, 224, 242)]"
      ]
     },
     "execution_count": 12,
     "metadata": {},
     "output_type": "execute_result"
    }
   ],
   "source": [
    "dims"
   ]
  },
  {
   "cell_type": "code",
   "execution_count": 13,
   "id": "whole-scotland",
   "metadata": {},
   "outputs": [
    {
     "data": {
      "text/plain": [
       "[[2, 6, 7],\n",
       " [2, 4, 7],\n",
       " [3, 4, 5],\n",
       " [3, 7, 6],\n",
       " [3, 6, 6],\n",
       " [1, 5, 6],\n",
       " [2, 5, 5],\n",
       " [3, 6, 6],\n",
       " [2, 6, 5],\n",
       " [2, 5, 7],\n",
       " [3, 5, 9],\n",
       " [2, 5, 5]]"
      ]
     },
     "execution_count": 13,
     "metadata": {},
     "output_type": "execute_result"
    }
   ],
   "source": [
    "patchIds"
   ]
  },
  {
   "cell_type": "code",
   "execution_count": 14,
   "id": "interesting-terry",
   "metadata": {},
   "outputs": [
    {
     "data": {
      "text/plain": [
       "[84, 56, 60, 126, 108, 30, 50, 108, 60, 70, 135, 50]"
      ]
     },
     "execution_count": 14,
     "metadata": {},
     "output_type": "execute_result"
    }
   ],
   "source": [
    "numPatches"
   ]
  },
  {
   "cell_type": "code",
   "execution_count": 15,
   "id": "seeing-cycling",
   "metadata": {},
   "outputs": [
    {
     "data": {
      "text/plain": [
       "937"
      ]
     },
     "execution_count": 15,
     "metadata": {},
     "output_type": "execute_result"
    }
   ],
   "source": [
    "sum(numPatches)"
   ]
  },
  {
   "cell_type": "markdown",
   "id": "textile-distance",
   "metadata": {},
   "source": [
    "# Test data loader"
   ]
  },
  {
   "cell_type": "code",
   "execution_count": 16,
   "id": "purple-democracy",
   "metadata": {},
   "outputs": [],
   "source": [
    "from data_loader.ircaddataset import *"
   ]
  },
  {
   "cell_type": "code",
   "execution_count": 17,
   "id": "cheap-camping",
   "metadata": {},
   "outputs": [],
   "source": [
    "ds = IrcadDataset('/ocean/projects/asc170022p/rohit33/Liver/')"
   ]
  },
  {
   "cell_type": "code",
   "execution_count": 22,
   "id": "brilliant-orchestra",
   "metadata": {},
   "outputs": [
    {
     "data": {
      "application/vnd.jupyter.widget-view+json": {
       "model_id": "473c90c132c54b9a8def06be0dbb7b8c",
       "version_major": 2,
       "version_minor": 0
      },
      "text/plain": [
       "Viewer(geometries=[], gradient_opacity=0.22, point_sets=[], rendered_image=<itk.itkImagePython.itkImageF3; pro…"
      ]
     },
     "metadata": {},
     "output_type": "display_data"
    }
   ],
   "source": [
    "view(ds[0]['image'][0])"
   ]
  },
  {
   "cell_type": "code",
   "execution_count": null,
   "id": "miniature-duncan",
   "metadata": {},
   "outputs": [],
   "source": []
  },
  {
   "cell_type": "code",
   "execution_count": 7,
   "id": "polish-profit",
   "metadata": {},
   "outputs": [],
   "source": [
    "frangi = np.load('/ocean/projects/asc170022p/rohit33/Ircadoutput/frangi_0.npy')"
   ]
  },
  {
   "cell_type": "code",
   "execution_count": 19,
   "id": "precious-darwin",
   "metadata": {},
   "outputs": [
    {
     "data": {
      "application/vnd.jupyter.widget-view+json": {
       "model_id": "45a777d9782c4602b187949afc5cfc0a",
       "version_major": 2,
       "version_minor": 0
      },
      "text/plain": [
       "Viewer(geometries=[], gradient_opacity=0.22, point_sets=[], rendered_image=<itk.itkImagePython.itkImageD3; pro…"
      ]
     },
     "metadata": {},
     "output_type": "display_data"
    }
   ],
   "source": [
    "view((frangi > 14e-5).astype(float))"
   ]
  },
  {
   "cell_type": "code",
   "execution_count": 10,
   "id": "streaming-genome",
   "metadata": {},
   "outputs": [
    {
     "data": {
      "text/plain": [
       "0.0"
      ]
     },
     "execution_count": 10,
     "metadata": {},
     "output_type": "execute_result"
    }
   ],
   "source": [
    "frangi.min()"
   ]
  },
  {
   "cell_type": "code",
   "execution_count": null,
   "id": "alone-cartoon",
   "metadata": {},
   "outputs": [],
   "source": []
  }
 ],
 "metadata": {
  "kernelspec": {
   "display_name": "Python 3",
   "language": "python",
   "name": "python3"
  },
  "language_info": {
   "codemirror_mode": {
    "name": "ipython",
    "version": 3
   },
   "file_extension": ".py",
   "mimetype": "text/x-python",
   "name": "python",
   "nbconvert_exporter": "python",
   "pygments_lexer": "ipython3",
   "version": "3.6.12"
  }
 },
 "nbformat": 4,
 "nbformat_minor": 5
}
