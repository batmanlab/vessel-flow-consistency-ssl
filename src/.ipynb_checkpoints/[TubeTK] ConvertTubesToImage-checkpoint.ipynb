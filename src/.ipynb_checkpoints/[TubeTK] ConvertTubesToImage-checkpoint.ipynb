{
 "cells": [
  {
   "cell_type": "markdown",
   "metadata": {},
   "source": [
    "# Convert Tubes To Images"
   ]
  },
  {
   "cell_type": "markdown",
   "metadata": {},
   "source": [
    "This notebook contains a few examples of how to call wrapped methods in itk and ITKTubeTK."
   ]
  },
  {
   "cell_type": "markdown",
   "metadata": {},
   "source": [
    "ITK, ITKTubeTK, and ITKWidgets must be installed on your system for this notebook to work."
   ]
  },
  {
   "cell_type": "code",
   "execution_count": 1,
   "metadata": {},
   "outputs": [],
   "source": [
    "import os\n",
    "import sys\n",
    "import numpy"
   ]
  },
  {
   "cell_type": "code",
   "execution_count": 2,
   "metadata": {},
   "outputs": [],
   "source": [
    "import itk\n",
    "from itk import TubeTK as ttk\n",
    "from itkwidgets import view"
   ]
  },
  {
   "cell_type": "markdown",
   "metadata": {},
   "source": [
    "Initialization"
   ]
  },
  {
   "cell_type": "code",
   "execution_count": 5,
   "metadata": {},
   "outputs": [],
   "source": [
    "PixelType = itk.F\n",
    "Dimension = 3\n",
    "ImageType = itk.Image[PixelType, Dimension]\n",
    "    \n",
    "# Read tre file\n",
    "TubeFileReaderType = itk.SpatialObjectReader[Dimension]\n",
    "    \n",
    "tubeFileReader = TubeFileReaderType.New()\n",
    "tubeFileReader.SetFileName(\"/ocean/projects/asc170022p/rohit33/TubeTK/Normal-002/AuxillaryData/VascularNetwork.tre\")\n",
    "tubeFileReader.Update()\n",
    "\n",
    "tubes = tubeFileReader.GetGroup()\n",
    "\n",
    "\n",
    "# Read template image\n",
    "# TemplateImageType = itk.Image[PixelType, Dimension]\n",
    "# TemplateImageReaderType = itk.ImageFileReader[TemplateImageType]\n",
    "    \n",
    "# templateImageReader = TemplateImageReaderType.New()\n",
    "# templateImageReader.SetFileName(\"/ocean/projects/asc170022p/rohit33/TubeTK/Normal-002/MRA/Normal002-MRA.mha\")\n",
    "# templateImageReader.Update()\n",
    "\n",
    "# templateImage = templateImageReader.GetOutput()"
   ]
  },
  {
   "cell_type": "code",
   "execution_count": 6,
   "metadata": {
    "scrolled": false
   },
   "outputs": [
    {
     "data": {
      "application/vnd.jupyter.widget-view+json": {
       "model_id": "a524a138d93c4972b5f76ee5617d81ab",
       "version_major": 2,
       "version_minor": 0
      },
      "text/plain": [
       "Viewer(geometries=[], gradient_opacity=0.22, point_sets=[], rendered_image=<itk.itkImagePython.itkImageF3; pro…"
      ]
     },
     "metadata": {},
     "output_type": "display_data"
    }
   ],
   "source": [
    "view(templateImage)"
   ]
  },
  {
   "cell_type": "code",
   "execution_count": 7,
   "metadata": {},
   "outputs": [],
   "source": [
    "TubesToImageFilterType = ttk.ConvertTubesToImage[TemplateImageType]\n",
    "tubesToImageFilter = TubesToImageFilterType.New()\n",
    "tubesToImageFilter.SetUseRadius(True)\n",
    "tubesToImageFilter.SetTemplateImage(templateImageReader.GetOutput())\n",
    "tubesToImageFilter.SetInput(tubes)\n",
    "tubesToImageFilter.Update()\n",
    "\n",
    "outputImage = tubesToImageFilter.GetOutput()"
   ]
  },
  {
   "cell_type": "code",
   "execution_count": 19,
   "metadata": {},
   "outputs": [
    {
     "data": {
      "application/vnd.jupyter.widget-view+json": {
       "model_id": "972e59217ca54dff962924662009faf6",
       "version_major": 2,
       "version_minor": 0
      },
      "text/plain": [
       "Viewer(geometries=[], gradient_opacity=0.3, point_sets=[], rendered_image=<itk.itkImagePython.itkImageF3; prox…"
      ]
     },
     "metadata": {},
     "output_type": "display_data"
    }
   ],
   "source": [
    "TTKImageMathType = ttk.ImageMath[ImageType, ImageType]\n",
    "\n",
    "imMath = TTKImageMathType.New(Input = outputImage)\n",
    "imMath.AddImages(templateImage, 100, 1)\n",
    "combinedImage = imMath.GetOutput()\n",
    "view(combinedImage, gradient_opacity=0.3)"
   ]
  },
  {
   "cell_type": "code",
   "execution_count": 16,
   "metadata": {},
   "outputs": [
    {
     "data": {
      "application/vnd.jupyter.widget-view+json": {
       "model_id": "d7c1f24b1e004b5cbab960106d0da19c",
       "version_major": 2,
       "version_minor": 0
      },
      "text/plain": [
       "Viewer(geometries=[], gradient_opacity=0.22, point_sets=[], rendered_image=<itk.itkImagePython.itkImageF3; pro…"
      ]
     },
     "metadata": {},
     "output_type": "display_data"
    }
   ],
   "source": [
    "view(outputImage)"
   ]
  },
  {
   "cell_type": "code",
   "execution_count": null,
   "metadata": {},
   "outputs": [],
   "source": []
  }
 ],
 "metadata": {
  "kernelspec": {
   "display_name": "Python 3",
   "language": "python",
   "name": "python3"
  },
  "language_info": {
   "codemirror_mode": {
    "name": "ipython",
    "version": 3
   },
   "file_extension": ".py",
   "mimetype": "text/x-python",
   "name": "python",
   "nbconvert_exporter": "python",
   "pygments_lexer": "ipython3",
   "version": "3.6.12"
  }
 },
 "nbformat": 4,
 "nbformat_minor": 1
}
