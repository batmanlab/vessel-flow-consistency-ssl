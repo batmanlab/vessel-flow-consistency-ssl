{
 "cells": [
  {
   "cell_type": "code",
   "execution_count": 1,
   "metadata": {},
   "outputs": [
    {
     "ename": "ImportError",
     "evalue": "No module named data_loader.datasets",
     "output_type": "error",
     "traceback": [
      "\u001b[0;31m---------------------------------------------------------------------------\u001b[0m",
      "\u001b[0;31mImportError\u001b[0m                               Traceback (most recent call last)",
      "\u001b[0;32m<ipython-input-1-f0982d4b7719>\u001b[0m in \u001b[0;36m<module>\u001b[0;34m()\u001b[0m\n\u001b[1;32m      3\u001b[0m \u001b[0;32mimport\u001b[0m \u001b[0mnumpy\u001b[0m \u001b[0;32mas\u001b[0m \u001b[0mnp\u001b[0m\u001b[0;34m\u001b[0m\u001b[0m\n\u001b[1;32m      4\u001b[0m \u001b[0;32mimport\u001b[0m \u001b[0msys\u001b[0m\u001b[0;34m\u001b[0m\u001b[0m\n\u001b[0;32m----> 5\u001b[0;31m \u001b[0;32mfrom\u001b[0m \u001b[0mdata_loader\u001b[0m\u001b[0;34m.\u001b[0m\u001b[0mdatasets\u001b[0m \u001b[0;32mimport\u001b[0m \u001b[0mDriveDataset\u001b[0m\u001b[0;34m\u001b[0m\u001b[0m\n\u001b[0m\u001b[1;32m      6\u001b[0m \u001b[0;32mfrom\u001b[0m \u001b[0mskimage\u001b[0m\u001b[0;34m.\u001b[0m\u001b[0mfilters\u001b[0m \u001b[0;32mimport\u001b[0m \u001b[0mfrangi\u001b[0m\u001b[0;34m\u001b[0m\u001b[0m\n\u001b[1;32m      7\u001b[0m \u001b[0;32mfrom\u001b[0m \u001b[0msklearn\u001b[0m \u001b[0;32mimport\u001b[0m \u001b[0mmetrics\u001b[0m\u001b[0;34m\u001b[0m\u001b[0m\n",
      "\u001b[0;31mImportError\u001b[0m: No module named data_loader.datasets"
     ]
    }
   ],
   "source": [
    "import torch\n",
    "import pickle as pkl\n",
    "import numpy as np\n",
    "import sys\n",
    "from data_loader.datasets import DriveDataset\n",
    "from skimage.filters import frangi\n",
    "from sklearn import metrics\n",
    "from matplotlib import pyplot as plt\n",
    "import argparse\n",
    "import cv2\n",
    "%pylab\n",
    "%matplotlib inline"
   ]
  },
  {
   "cell_type": "code",
   "execution_count": 2,
   "metadata": {},
   "outputs": [],
   "source": [
    "filename = 'vesselness.pkl'\n",
    "with open(file, 'rb') as fi:\n",
    "    data = pkl.load(fi)"
   ]
  },
  {
   "cell_type": "code",
   "execution_count": null,
   "metadata": {},
   "outputs": [],
   "source": [
    "dataset = DriveDataset( \"/pghbio/dbmi/batmanlab/rohit33/DRIVE/\", train=True, augment=False)\n",
    "gtdataset = DriveDataset( \"/pghbio/dbmi/batmanlab/rohit33/DRIVE/\", train=True, toy=True, augment=False)"
   ]
  },
  {
   "cell_type": "code",
   "execution_count": null,
   "metadata": {},
   "outputs": [],
   "source": [
    "vfunc = vesselness_file('vesselness.pkl')"
   ]
  },
  {
   "cell_type": "code",
   "execution_count": null,
   "metadata": {},
   "outputs": [],
   "source": [
    "plt.figure(figsize=(16, 16))\n",
    "for i in range(len(dataset)):\n",
    "    img = dataset[i]['image'][0].data.cpu().numpy()\n",
    "    lab = gtdataset[i]['image'][0].data.cpu().numpy()\n",
    "    mask = dataset[i]['mask'][0].data.cpu().numpy()\n",
    "    # Get vesselness\n",
    "#     ves = frangi_vesselness(img, i)\n",
    "    ves = vfunc(img, i)\n",
    "    ves = multiply_mask(ves, mask)\n",
    "    plt.imshow(ves**(0.5), 'jet')\n",
    "    plt.imshow(ves > np.percentile(ves, 90))\n",
    "    # plt.savefig('label.png')\n",
    "    auc = AUC(ves, lab)\n",
    "    print(auc)\n",
    "    break"
   ]
  },
  {
   "cell_type": "code",
   "execution_count": null,
   "metadata": {},
   "outputs": [],
   "source": []
  }
 ],
 "metadata": {
  "kernelspec": {
   "display_name": "Python 2",
   "language": "python",
   "name": "python2"
  },
  "language_info": {
   "codemirror_mode": {
    "name": "ipython",
    "version": 2
   },
   "file_extension": ".py",
   "mimetype": "text/x-python",
   "name": "python",
   "nbconvert_exporter": "python",
   "pygments_lexer": "ipython2",
   "version": "2.7.16"
  }
 },
 "nbformat": 4,
 "nbformat_minor": 4
}
