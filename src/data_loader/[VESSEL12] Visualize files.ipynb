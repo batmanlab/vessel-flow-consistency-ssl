{
 "cells": [
  {
   "cell_type": "code",
   "execution_count": 1,
   "id": "short-responsibility",
   "metadata": {},
   "outputs": [
    {
     "name": "stdout",
     "output_type": "stream",
     "text": [
      "Using matplotlib backend: agg\n",
      "Populating the interactive namespace from numpy and matplotlib\n"
     ]
    }
   ],
   "source": [
    "import os\n",
    "import numpy as np\n",
    "from os import path as osp\n",
    "import torch\n",
    "import cv2\n",
    "from torch.utils.data import Dataset\n",
    "from PIL import Image\n",
    "from skimage.morphology import disk, white_tophat, erosion, dilation\n",
    "from scipy import ndimage as nd\n",
    "import SimpleITK as sitk\n",
    "from scipy.ndimage.morphology import binary_erosion\n",
    "\n",
    "\n",
    "import nibabel as nib\n",
    "%pylab\n",
    "%matplotlib inline"
   ]
  },
  {
   "cell_type": "code",
   "execution_count": 2,
   "id": "brown-archive",
   "metadata": {},
   "outputs": [],
   "source": [
    "dirname = '/ocean/projects/asc170022p/rohit33/VESSEL12'"
   ]
  },
  {
   "cell_type": "code",
   "execution_count": 3,
   "id": "rolled-synthesis",
   "metadata": {},
   "outputs": [],
   "source": [
    "tstr = 'train'\n",
    "filename = osp.join(dirname, tstr)"
   ]
  },
  {
   "cell_type": "code",
   "execution_count": 4,
   "id": "subjective-minute",
   "metadata": {},
   "outputs": [],
   "source": [
    "allpaths = []\n",
    "for r, dirs, files in os.walk(filename):\n",
    "    files = map(lambda x: osp.join(r, x), files)\n",
    "    files = list(files)\n",
    "    allpaths.extend(files)\n",
    "    break"
   ]
  },
  {
   "cell_type": "code",
   "execution_count": 5,
   "id": "treated-programmer",
   "metadata": {},
   "outputs": [
    {
     "name": "stdout",
     "output_type": "stream",
     "text": [
      "['/ocean/projects/asc170022p/rohit33/VESSEL12/train/VESSEL12_01.mhd', '/ocean/projects/asc170022p/rohit33/VESSEL12/train/VESSEL12_02.mhd', '/ocean/projects/asc170022p/rohit33/VESSEL12/train/VESSEL12_03.mhd', '/ocean/projects/asc170022p/rohit33/VESSEL12/train/VESSEL12_04.mhd', '/ocean/projects/asc170022p/rohit33/VESSEL12/train/VESSEL12_05.mhd', '/ocean/projects/asc170022p/rohit33/VESSEL12/train/VESSEL12_06.mhd', '/ocean/projects/asc170022p/rohit33/VESSEL12/train/VESSEL12_07.mhd', '/ocean/projects/asc170022p/rohit33/VESSEL12/train/VESSEL12_08.mhd', '/ocean/projects/asc170022p/rohit33/VESSEL12/train/VESSEL12_09.mhd', '/ocean/projects/asc170022p/rohit33/VESSEL12/train/VESSEL12_10.mhd', '/ocean/projects/asc170022p/rohit33/VESSEL12/train/VESSEL12_11.mhd', '/ocean/projects/asc170022p/rohit33/VESSEL12/train/VESSEL12_12.mhd', '/ocean/projects/asc170022p/rohit33/VESSEL12/train/VESSEL12_13.mhd', '/ocean/projects/asc170022p/rohit33/VESSEL12/train/VESSEL12_14.mhd', '/ocean/projects/asc170022p/rohit33/VESSEL12/train/VESSEL12_15.mhd', '/ocean/projects/asc170022p/rohit33/VESSEL12/train/VESSEL12_16.mhd', '/ocean/projects/asc170022p/rohit33/VESSEL12/train/VESSEL12_17.mhd', '/ocean/projects/asc170022p/rohit33/VESSEL12/train/VESSEL12_18.mhd', '/ocean/projects/asc170022p/rohit33/VESSEL12/train/VESSEL12_19.mhd', '/ocean/projects/asc170022p/rohit33/VESSEL12/train/VESSEL12_20.mhd']\n"
     ]
    }
   ],
   "source": [
    "raws = sorted(list(filter(lambda x: x.endswith('raw'), allpaths)))\n",
    "mhds = list(map(lambda x: x.replace('.raw', '.mhd'), raws))\n",
    "print(mhds)"
   ]
  },
  {
   "cell_type": "code",
   "execution_count": 6,
   "id": "royal-anderson",
   "metadata": {},
   "outputs": [],
   "source": [
    "# i = 0\n",
    "# imgdata = sitk.ReadImage(mhds[i])\n",
    "# img = sitk.GetArrayFromImage(imgdata)"
   ]
  },
  {
   "cell_type": "code",
   "execution_count": 7,
   "id": "sixth-programming",
   "metadata": {},
   "outputs": [],
   "source": [
    "# img.shape[0]"
   ]
  },
  {
   "cell_type": "code",
   "execution_count": 8,
   "id": "received-strategy",
   "metadata": {},
   "outputs": [],
   "source": [
    "# Calculate number of patches\n",
    "\n",
    "# numPatches = []\n",
    "# patchIdx = []\n",
    "# imgmin = []\n",
    "# imgmax = []\n",
    "# for i in range(len(mhds)):\n",
    "#     imgdata = sitk.ReadImage(mhds[i])\n",
    "#     img = sitk.GetArrayFromImage(imgdata)\n",
    "#     H, W, D = img.shape\n",
    "#     pH, pW, pD = ceil((H-64)/48.), ceil((W-64)/48.), ceil((D-64)/48.)\n",
    "#     numPatches.append(pH*pW*pD)\n",
    "#     patchIdx.append((pH, pW, pD))\n",
    "#     imgmin.append(img.min())\n",
    "#     imgmax.append(img.max())"
   ]
  },
  {
   "cell_type": "code",
   "execution_count": 9,
   "id": "waiting-allowance",
   "metadata": {},
   "outputs": [],
   "source": [
    "masks = list(map(lambda x: x.replace(tstr, tstr + '/Lungmasks'), mhds))"
   ]
  },
  {
   "cell_type": "code",
   "execution_count": 10,
   "id": "molecular-blowing",
   "metadata": {},
   "outputs": [
    {
     "data": {
      "text/plain": [
       "['/ocean/projects/asc170022p/rohit33/VESSEL12/train/Lungmasks/VESSEL12_01.mhd',\n",
       " '/ocean/projects/asc170022p/rohit33/VESSEL12/train/Lungmasks/VESSEL12_02.mhd',\n",
       " '/ocean/projects/asc170022p/rohit33/VESSEL12/train/Lungmasks/VESSEL12_03.mhd',\n",
       " '/ocean/projects/asc170022p/rohit33/VESSEL12/train/Lungmasks/VESSEL12_04.mhd',\n",
       " '/ocean/projects/asc170022p/rohit33/VESSEL12/train/Lungmasks/VESSEL12_05.mhd',\n",
       " '/ocean/projects/asc170022p/rohit33/VESSEL12/train/Lungmasks/VESSEL12_06.mhd',\n",
       " '/ocean/projects/asc170022p/rohit33/VESSEL12/train/Lungmasks/VESSEL12_07.mhd',\n",
       " '/ocean/projects/asc170022p/rohit33/VESSEL12/train/Lungmasks/VESSEL12_08.mhd',\n",
       " '/ocean/projects/asc170022p/rohit33/VESSEL12/train/Lungmasks/VESSEL12_09.mhd',\n",
       " '/ocean/projects/asc170022p/rohit33/VESSEL12/train/Lungmasks/VESSEL12_10.mhd',\n",
       " '/ocean/projects/asc170022p/rohit33/VESSEL12/train/Lungmasks/VESSEL12_11.mhd',\n",
       " '/ocean/projects/asc170022p/rohit33/VESSEL12/train/Lungmasks/VESSEL12_12.mhd',\n",
       " '/ocean/projects/asc170022p/rohit33/VESSEL12/train/Lungmasks/VESSEL12_13.mhd',\n",
       " '/ocean/projects/asc170022p/rohit33/VESSEL12/train/Lungmasks/VESSEL12_14.mhd',\n",
       " '/ocean/projects/asc170022p/rohit33/VESSEL12/train/Lungmasks/VESSEL12_15.mhd',\n",
       " '/ocean/projects/asc170022p/rohit33/VESSEL12/train/Lungmasks/VESSEL12_16.mhd',\n",
       " '/ocean/projects/asc170022p/rohit33/VESSEL12/train/Lungmasks/VESSEL12_17.mhd',\n",
       " '/ocean/projects/asc170022p/rohit33/VESSEL12/train/Lungmasks/VESSEL12_18.mhd',\n",
       " '/ocean/projects/asc170022p/rohit33/VESSEL12/train/Lungmasks/VESSEL12_19.mhd',\n",
       " '/ocean/projects/asc170022p/rohit33/VESSEL12/train/Lungmasks/VESSEL12_20.mhd']"
      ]
     },
     "execution_count": 10,
     "metadata": {},
     "output_type": "execute_result"
    }
   ],
   "source": [
    "masks"
   ]
  },
  {
   "cell_type": "code",
   "execution_count": 11,
   "id": "suburban-suspect",
   "metadata": {},
   "outputs": [],
   "source": [
    "# lungmask = sitk.ReadImage(masks[i])\n",
    "# mask = sitk.GetArrayFromImage(lungmask)"
   ]
  },
  {
   "cell_type": "code",
   "execution_count": 12,
   "id": "copyrighted-inside",
   "metadata": {},
   "outputs": [],
   "source": [
    "from tqdm import tqdm"
   ]
  },
  {
   "cell_type": "code",
   "execution_count": 13,
   "id": "posted-hebrew",
   "metadata": {},
   "outputs": [
    {
     "name": "stderr",
     "output_type": "stream",
     "text": [
      "100%|██████████| 20/20 [08:30<00:00, 25.53s/it]\n"
     ]
    }
   ],
   "source": [
    "for i in tqdm(range(len(mhds))):\n",
    "    mhd = mhds[i]\n",
    "    mask = masks[i]\n",
    "    img = sitk.GetArrayFromImage(sitk.ReadImage(mhd))\n",
    "    maskimg = sitk.GetArrayFromImage(sitk.ReadImage(mask))\n",
    "    maskimg = erosion(maskimg, np.ones((3,3,3)))\n",
    "    img[img > 250] = 250\n",
    "    img[img < -900] = -900\n",
    "    img[maskimg == 0] = -900\n",
    "#     print(img.shape)\n",
    "    sitk.WriteImage(sitk.GetImageFromArray(img), mhd)"
   ]
  },
  {
   "cell_type": "code",
   "execution_count": 14,
   "id": "living-hypothesis",
   "metadata": {},
   "outputs": [
    {
     "data": {
      "text/plain": [
       "(406, 512, 512)"
      ]
     },
     "execution_count": 14,
     "metadata": {},
     "output_type": "execute_result"
    }
   ],
   "source": [
    "maskimg.shape"
   ]
  },
  {
   "cell_type": "markdown",
   "id": "crude-project",
   "metadata": {},
   "source": [
    "# More stuff"
   ]
  },
  {
   "cell_type": "code",
   "execution_count": 15,
   "id": "cleared-latter",
   "metadata": {},
   "outputs": [],
   "source": [
    "from itkwidgets import view"
   ]
  },
  {
   "cell_type": "code",
   "execution_count": 16,
   "id": "numeric-steam",
   "metadata": {},
   "outputs": [],
   "source": [
    "img = sitk.GetArrayFromImage(sitk.ReadImage(mhds[0]))"
   ]
  },
  {
   "cell_type": "code",
   "execution_count": null,
   "id": "particular-ivory",
   "metadata": {},
   "outputs": [],
   "source": [
    "view(img)"
   ]
  },
  {
   "cell_type": "code",
   "execution_count": null,
   "id": "lesbian-garlic",
   "metadata": {},
   "outputs": [],
   "source": []
  }
 ],
 "metadata": {
  "kernelspec": {
   "display_name": "Python 3",
   "language": "python",
   "name": "python3"
  },
  "language_info": {
   "codemirror_mode": {
    "name": "ipython",
    "version": 3
   },
   "file_extension": ".py",
   "mimetype": "text/x-python",
   "name": "python",
   "nbconvert_exporter": "python",
   "pygments_lexer": "ipython3",
   "version": "3.6.12"
  }
 },
 "nbformat": 4,
 "nbformat_minor": 5
}
