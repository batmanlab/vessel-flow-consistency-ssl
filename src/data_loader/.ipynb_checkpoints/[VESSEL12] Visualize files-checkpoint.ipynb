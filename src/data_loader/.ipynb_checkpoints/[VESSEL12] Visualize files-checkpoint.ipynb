{
 "cells": [
  {
   "cell_type": "code",
   "execution_count": null,
   "id": "short-responsibility",
   "metadata": {},
   "outputs": [],
   "source": [
    "import os\n",
    "import numpy as np\n",
    "from os import path as osp\n",
    "import torch\n",
    "import cv2\n",
    "from torch.utils.data import Dataset\n",
    "from PIL import Image\n",
    "from skimage.morphology import disk, white_tophat, erosion, dilation\n",
    "from scipy import ndimage as nd\n",
    "import SimpleITK as sitk\n",
    "from scipy.ndimage.morphology import binary_erosion\n",
    "\n",
    "\n",
    "import nibabel as nib\n",
    "%pylab\n",
    "%matplotlib inline"
   ]
  },
  {
   "cell_type": "code",
   "execution_count": null,
   "id": "brown-archive",
   "metadata": {},
   "outputs": [],
   "source": [
    "dirname = '/ocean/projects/asc170022p/rohit33/VESSEL12'"
   ]
  },
  {
   "cell_type": "code",
   "execution_count": null,
   "id": "rolled-synthesis",
   "metadata": {},
   "outputs": [],
   "source": [
    "tstr = 'train'\n",
    "filename = osp.join(dirname, tstr)"
   ]
  },
  {
   "cell_type": "code",
   "execution_count": null,
   "id": "subjective-minute",
   "metadata": {},
   "outputs": [],
   "source": [
    "allpaths = []\n",
    "for r, dirs, files in os.walk(filename):\n",
    "    files = map(lambda x: osp.join(r, x), files)\n",
    "    files = list(files)\n",
    "    allpaths.extend(files)\n",
    "    break"
   ]
  },
  {
   "cell_type": "code",
   "execution_count": null,
   "id": "treated-programmer",
   "metadata": {},
   "outputs": [],
   "source": [
    "raws = sorted(list(filter(lambda x: x.endswith('raw'), allpaths)))\n",
    "mhds = list(map(lambda x: x.replace('.raw', '.mhd'), raws))\n",
    "print(mhds)"
   ]
  },
  {
   "cell_type": "code",
   "execution_count": null,
   "id": "royal-anderson",
   "metadata": {},
   "outputs": [],
   "source": [
    "# i = 0\n",
    "# imgdata = sitk.ReadImage(mhds[i])\n",
    "# img = sitk.GetArrayFromImage(imgdata)"
   ]
  },
  {
   "cell_type": "code",
   "execution_count": null,
   "id": "sixth-programming",
   "metadata": {},
   "outputs": [],
   "source": [
    "# img.shape[0]"
   ]
  },
  {
   "cell_type": "code",
   "execution_count": null,
   "id": "received-strategy",
   "metadata": {},
   "outputs": [],
   "source": [
    "# Calculate number of patches\n",
    "\n",
    "# numPatches = []\n",
    "# patchIdx = []\n",
    "# imgmin = []\n",
    "# imgmax = []\n",
    "# for i in range(len(mhds)):\n",
    "#     imgdata = sitk.ReadImage(mhds[i])\n",
    "#     img = sitk.GetArrayFromImage(imgdata)\n",
    "#     H, W, D = img.shape\n",
    "#     pH, pW, pD = ceil((H-64)/48.), ceil((W-64)/48.), ceil((D-64)/48.)\n",
    "#     numPatches.append(pH*pW*pD)\n",
    "#     patchIdx.append((pH, pW, pD))\n",
    "#     imgmin.append(img.min())\n",
    "#     imgmax.append(img.max())"
   ]
  },
  {
   "cell_type": "code",
   "execution_count": null,
   "id": "waiting-allowance",
   "metadata": {},
   "outputs": [],
   "source": [
    "masks = list(map(lambda x: x.replace(tstr, tstr + '/Lungmasks'), mhds))"
   ]
  },
  {
   "cell_type": "code",
   "execution_count": null,
   "id": "molecular-blowing",
   "metadata": {},
   "outputs": [],
   "source": [
    "masks"
   ]
  },
  {
   "cell_type": "code",
   "execution_count": null,
   "id": "suburban-suspect",
   "metadata": {},
   "outputs": [],
   "source": [
    "# lungmask = sitk.ReadImage(masks[i])\n",
    "# mask = sitk.GetArrayFromImage(lungmask)"
   ]
  },
  {
   "cell_type": "code",
   "execution_count": null,
   "id": "roman-spiritual",
   "metadata": {},
   "outputs": [],
   "source": [
    "from tqdm import tqdm"
   ]
  },
  {
   "cell_type": "code",
   "execution_count": null,
   "id": "posted-hebrew",
   "metadata": {},
   "outputs": [],
   "source": [
    "for i in tqdm(range(len(mhds))):\n",
    "    mhd = mhds[i]\n",
    "    mask = masks[i]\n",
    "    img = sitk.GetArrayFromImage(sitk.ReadImage(mhd))\n",
    "    maskimg = sitk.GetArrayFromImage(sitk.ReadImage(mask))\n",
    "    maskimg = erosion(maskimg, np.ones((3,3,3)))\n",
    "    img[img > 250] = 250\n",
    "    img[img < -900] = -900\n",
    "    img[maskimg == 0] = -900\n",
    "#     print(img.shape)\n",
    "    sitk.WriteImage(sitk.GetImageFromArray(img), mhd)"
   ]
  },
  {
   "cell_type": "code",
   "execution_count": null,
   "id": "living-hypothesis",
   "metadata": {},
   "outputs": [],
   "source": [
    "maskimg.shape"
   ]
  },
  {
   "cell_type": "markdown",
   "id": "crude-project",
   "metadata": {},
   "source": [
    "# More stuff"
   ]
  },
  {
   "cell_type": "code",
   "execution_count": null,
   "id": "cleared-latter",
   "metadata": {},
   "outputs": [],
   "source": [
    "from itkwidgets import view"
   ]
  },
  {
   "cell_type": "code",
   "execution_count": null,
   "id": "numeric-steam",
   "metadata": {},
   "outputs": [],
   "source": [
    "img = sitk.GetArrayFromImage(sitk.ReadImage(mhds[0]))"
   ]
  },
  {
   "cell_type": "code",
   "execution_count": null,
   "id": "particular-ivory",
   "metadata": {},
   "outputs": [],
   "source": [
    "view(img)"
   ]
  },
  {
   "cell_type": "code",
   "execution_count": null,
   "id": "lesbian-garlic",
   "metadata": {},
   "outputs": [],
   "source": []
  }
 ],
 "metadata": {
  "kernelspec": {
   "display_name": "Python 3",
   "language": "python",
   "name": "python3"
  },
  "language_info": {
   "codemirror_mode": {
    "name": "ipython",
    "version": 3
   },
   "file_extension": ".py",
   "mimetype": "text/x-python",
   "name": "python",
   "nbconvert_exporter": "python",
   "pygments_lexer": "ipython3",
   "version": "3.6.12"
  }
 },
 "nbformat": 4,
 "nbformat_minor": 5
}
