{
 "cells": [
  {
   "cell_type": "code",
   "execution_count": 14,
   "id": "precise-brand",
   "metadata": {},
   "outputs": [
    {
     "name": "stdout",
     "output_type": "stream",
     "text": [
      "Using matplotlib backend: agg\n",
      "Populating the interactive namespace from numpy and matplotlib\n"
     ]
    }
   ],
   "source": [
    "%pylab\n",
    "from itkwidgets import view\n",
    "import SimpleITK as sitk"
   ]
  },
  {
   "cell_type": "code",
   "execution_count": 11,
   "id": "coupled-university",
   "metadata": {},
   "outputs": [],
   "source": [
    "a = np.load('VESSEL12output/ours_0.npy')"
   ]
  },
  {
   "cell_type": "code",
   "execution_count": 13,
   "id": "otherwise-playback",
   "metadata": {},
   "outputs": [
    {
     "data": {
      "application/vnd.jupyter.widget-view+json": {
       "model_id": "95bd194812d44afba3953726d76dcc24",
       "version_major": 2,
       "version_minor": 0
      },
      "text/plain": [
       "Viewer(geometries=[], gradient_opacity=0.22, point_sets=[], rendered_image=<itk.itkImagePython.itkImageD3; pro…"
      ]
     },
     "metadata": {},
     "output_type": "display_data"
    }
   ],
   "source": [
    "# view(np.log(1e-10 + a))\n",
    "view(a)"
   ]
  },
  {
   "cell_type": "code",
   "execution_count": 15,
   "id": "happy-russia",
   "metadata": {},
   "outputs": [],
   "source": [
    "img = sitk.GetArrayFromImage(sitk.ReadImage('/ocean/projects/asc170022p/rohit33/VESSEL12/test/VESSEL12_21.mhd'))"
   ]
  },
  {
   "cell_type": "code",
   "execution_count": 17,
   "id": "assumed-masters",
   "metadata": {},
   "outputs": [
    {
     "data": {
      "application/vnd.jupyter.widget-view+json": {
       "model_id": "39fa0e03cd8c48f58b349bf1e8aa2700",
       "version_major": 2,
       "version_minor": 0
      },
      "text/plain": [
       "Viewer(geometries=[], gradient_opacity=0.22, point_sets=[], rendered_image=<itk.itkImagePython.itkImageSS3; pr…"
      ]
     },
     "metadata": {},
     "output_type": "display_data"
    }
   ],
   "source": [
    "view(img)"
   ]
  },
  {
   "cell_type": "code",
   "execution_count": null,
   "id": "outstanding-brazil",
   "metadata": {},
   "outputs": [],
   "source": []
  }
 ],
 "metadata": {
  "kernelspec": {
   "display_name": "Python 3",
   "language": "python",
   "name": "python3"
  },
  "language_info": {
   "codemirror_mode": {
    "name": "ipython",
    "version": 3
   },
   "file_extension": ".py",
   "mimetype": "text/x-python",
   "name": "python",
   "nbconvert_exporter": "python",
   "pygments_lexer": "ipython3",
   "version": "3.6.12"
  }
 },
 "nbformat": 4,
 "nbformat_minor": 5
}
